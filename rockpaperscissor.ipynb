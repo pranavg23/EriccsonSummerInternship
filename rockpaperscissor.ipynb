{
 "cells": [
  {
   "cell_type": "code",
   "execution_count": 8,
   "metadata": {},
   "outputs": [
    {
     "name": "stdout",
     "output_type": "stream",
     "text": [
      "Welcome to the Rock Paper Scissor Game!\n"
     ]
    },
    {
     "name": "stdin",
     "output_type": "stream",
     "text": [
      "Enter Rock, Paper or Scissor rock\n"
     ]
    },
    {
     "name": "stdout",
     "output_type": "stream",
     "text": [
      "Its a Tie!\n"
     ]
    },
    {
     "name": "stdin",
     "output_type": "stream",
     "text": [
      "Say yes if you wish to play again and no if you do not yes\n",
      "Enter Rock, Paper or Scissor paper\n"
     ]
    },
    {
     "name": "stdout",
     "output_type": "stream",
     "text": [
      "You Win!\n"
     ]
    },
    {
     "name": "stdin",
     "output_type": "stream",
     "text": [
      "Say yes if you wish to play again and no if you do not yes\n",
      "Enter Rock, Paper or Scissor scissor\n"
     ]
    },
    {
     "name": "stdout",
     "output_type": "stream",
     "text": [
      "You Win!\n"
     ]
    },
    {
     "name": "stdin",
     "output_type": "stream",
     "text": [
      "Say yes if you wish to play again and no if you do not yes\n",
      "Enter Rock, Paper or Scissor lol\n"
     ]
    },
    {
     "name": "stdout",
     "output_type": "stream",
     "text": [
      "Wrong Input!\n"
     ]
    },
    {
     "name": "stdin",
     "output_type": "stream",
     "text": [
      "Enter Rock, Paper or Scissor rock\n"
     ]
    },
    {
     "name": "stdout",
     "output_type": "stream",
     "text": [
      "Its a Tie!\n"
     ]
    },
    {
     "name": "stdin",
     "output_type": "stream",
     "text": [
      "Say yes if you wish to play again and no if you do not kol\n"
     ]
    },
    {
     "name": "stdout",
     "output_type": "stream",
     "text": [
      "Wrong Input!\n",
      "Thank you for playing!\n"
     ]
    }
   ],
   "source": [
    "import random\n",
    "print(\"Welcome to the Rock Paper Scissor Game!\")\n",
    "userchoice=\"\"\n",
    "computerchoice=\"\"\n",
    "options=[\"rock\",\"paper\",\"scissor\"]\n",
    "while(1==1):\n",
    "    userchoice=input(\"Enter Rock, Paper or Scissor\")\n",
    "    userchoice=userchoice.lower() #So that case is not a problem\n",
    "    if (userchoice == \"rock\" or userchoice == \"paper\" or userchoice == \"scissor\" ):\n",
    "        computerchoice=random.choice(options)\n",
    "        \n",
    "        if(userchoice==computerchoice):\n",
    "            print(\"Its a Tie!\")\n",
    "            \n",
    "        elif(userchoice==\"rock\"):\n",
    "            if(computerchoice== \"paper\"):\n",
    "                print(\"Computer Wins!\")\n",
    "            else:\n",
    "                print(\"You Win!\")\n",
    "        \n",
    "        elif(userchoice==\"paper\"):\n",
    "            if(computerchoice==\"scissor\"):\n",
    "                print(\"Computer Wins!\")\n",
    "            else:\n",
    "                print(\"You Win!\")\n",
    "        \n",
    "        else:\n",
    "            if(computerchoice==\"rock\"):\n",
    "                print(\"Computer Wins!\")\n",
    "            else:\n",
    "                print(\"You Win!\")\n",
    "                \n",
    "        userchoice=input(\"Say yes if you wish to play again and no if you do not\")\n",
    "        if(userchoice==\"yes\"):\n",
    "            continue;\n",
    "        elif(userchoice==\"no\"):\n",
    "            break;\n",
    "        else:\n",
    "            print(\"Wrong Input!\")\n",
    "            break;\n",
    "    else:\n",
    "        print(\"Wrong Input!\")\n",
    "print(\"Thank you for playing!\")"
   ]
  },
  {
   "cell_type": "code",
   "execution_count": null,
   "metadata": {},
   "outputs": [],
   "source": []
  }
 ],
 "metadata": {
  "kernelspec": {
   "display_name": "Python 3",
   "language": "python",
   "name": "python3"
  },
  "language_info": {
   "codemirror_mode": {
    "name": "ipython",
    "version": 3
   },
   "file_extension": ".py",
   "mimetype": "text/x-python",
   "name": "python",
   "nbconvert_exporter": "python",
   "pygments_lexer": "ipython3",
   "version": "3.7.6"
  }
 },
 "nbformat": 4,
 "nbformat_minor": 4
}
