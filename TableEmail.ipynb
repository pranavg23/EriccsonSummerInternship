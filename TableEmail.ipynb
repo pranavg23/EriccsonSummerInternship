{
 "cells": [
  {
   "cell_type": "code",
   "execution_count": 26,
   "metadata": {},
   "outputs": [
    {
     "data": {
      "text/plain": [
       "'Mail sent successfully.'"
      ]
     },
     "execution_count": 26,
     "metadata": {},
     "output_type": "execute_result"
    }
   ],
   "source": [
    "#This program sends an email containing a data table which is a Data Frame \n",
    "import pandas as pd\n",
    "from smtplib import SMTP\n",
    "from email.mime.text import MIMEText\n",
    "from email.mime.multipart import MIMEMultipart\n",
    "\n",
    "\n",
    "def send_mail(body):\n",
    "\n",
    "    message = MIMEMultipart()\n",
    "    message['Subject'] = 'Sample Data 2'\n",
    "\n",
    "    body_content = body\n",
    "    message.attach(MIMEText(body_content, \"html\"))\n",
    "    msg_body = message.as_string()\n",
    "\n",
    "    server = SMTP('smtp.gmail.com', 587)\n",
    "    server.starttls()\n",
    "    server.login('praanavgupta@gmail.com', 'CRICKET@23')\n",
    "    server.sendmail('praanavgupta@gmail.com','tejinder.pal.singh@ericsson.com', msg_body)\n",
    "    server.quit()\n",
    "\n",
    "\n",
    "from pretty_html_table import build_table\n",
    "\n",
    "def send_country_list():\n",
    "    read_file=pd.read_csv(\"~/Desktop/EI/sampledata.csv\")\n",
    "    data=pd.DataFrame(read_file)\n",
    "    output = \"This is a Sample Data Table\\n\" + build_table(data, 'blue_light')+ \" Regards, \\nPranav Gupta\"\n",
    "    send_mail(output)\n",
    "    return \"Mail sent successfully.\"\n",
    "\n",
    "send_country_list()\n",
    "\n"
   ]
  },
  {
   "cell_type": "code",
   "execution_count": null,
   "metadata": {},
   "outputs": [],
   "source": []
  }
 ],
 "metadata": {
  "kernelspec": {
   "display_name": "Python 3",
   "language": "python",
   "name": "python3"
  },
  "language_info": {
   "codemirror_mode": {
    "name": "ipython",
    "version": 3
   },
   "file_extension": ".py",
   "mimetype": "text/x-python",
   "name": "python",
   "nbconvert_exporter": "python",
   "pygments_lexer": "ipython3",
   "version": "3.7.6"
  }
 },
 "nbformat": 4,
 "nbformat_minor": 4
}
